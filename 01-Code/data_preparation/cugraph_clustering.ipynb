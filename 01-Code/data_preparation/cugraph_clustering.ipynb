{
 "cells": [
  {
   "cell_type": "markdown",
   "metadata": {},
   "source": [
    "# TCR co-occurence clustering"
   ]
  },
  {
   "cell_type": "code",
   "execution_count": 1,
   "metadata": {},
   "outputs": [
    {
     "name": "stderr",
     "output_type": "stream",
     "text": [
      "/media/pablo/Windows_files/00-master/02 - Semester2/[R1] Research_internship_1/.venv/lib/python3.10/site-packages/cudf/utils/gpu_utils.py:89: UserWarning: A GPU with NVIDIA Volta™ (Compute Capability 7.0) or newer architecture is required.\n",
      "Detected GPU 0: NVIDIA GeForce GTX 1050\u0000\u0000\u0000\u0000\u0000\u0000\u0000\u0000\u0000\u0000\u0000\u0000\u0000\u0000\u0000\u0000\u0000\u0000\u0000\u0000\u0000\u0000\u0000\u0000\u0000\u0000\u0000\u0000\u0000\u0000\u0000\u0000\u0000\u0000\u0000\u0000\u0000\u0000\u0000\u0000\u0000                                                                                                                                                                                                \n",
      "Detected Compute Capability: 6.1\n",
      "  warnings.warn(\n"
     ]
    }
   ],
   "source": [
    "# I run the clustering on the gpu, maybe an environment with these dependencies will take some time to set up. Feel free to ask help.\n",
    "\n",
    "import cugraph\n",
    "import cudf\n",
    "import matplotlib.pyplot as plt\n",
    "import seaborn as sns\n",
    "import numpy as np\n",
    "import faiss\n",
    "import anndata"
   ]
  },
  {
   "cell_type": "code",
   "execution_count": 2,
   "metadata": {},
   "outputs": [
    {
     "data": {
      "text/plain": [
       "'24.02.00'"
      ]
     },
     "execution_count": 2,
     "metadata": {},
     "output_type": "execute_result"
    }
   ],
   "source": [
    "cugraph.__version__"
   ]
  },
  {
   "cell_type": "markdown",
   "metadata": {},
   "source": [
    "Hyperparameters"
   ]
  },
  {
   "cell_type": "code",
   "execution_count": 3,
   "metadata": {},
   "outputs": [],
   "source": [
    "K_NN = 100"
   ]
  },
  {
   "cell_type": "markdown",
   "metadata": {},
   "source": [
    "Read in count matrix (AnnData object)"
   ]
  },
  {
   "cell_type": "code",
   "execution_count": 4,
   "metadata": {},
   "outputs": [],
   "source": [
    "counts = anndata.read_h5ad(\"data/counts_absence_presence_only.h5ad\")"
   ]
  },
  {
   "cell_type": "code",
   "execution_count": 5,
   "metadata": {},
   "outputs": [
    {
     "data": {
      "text/html": [
       "<div>\n",
       "<style scoped>\n",
       "    .dataframe tbody tr th:only-of-type {\n",
       "        vertical-align: middle;\n",
       "    }\n",
       "\n",
       "    .dataframe tbody tr th {\n",
       "        vertical-align: top;\n",
       "    }\n",
       "\n",
       "    .dataframe thead th {\n",
       "        text-align: right;\n",
       "    }\n",
       "</style>\n",
       "<table border=\"1\" class=\"dataframe\">\n",
       "  <thead>\n",
       "    <tr style=\"text-align: right;\">\n",
       "      <th></th>\n",
       "      <th>Dataset</th>\n",
       "      <th>subject_id</th>\n",
       "      <th>Virus Diseases</th>\n",
       "      <th>Age</th>\n",
       "      <th>Biological Sex</th>\n",
       "      <th>Racial Group</th>\n",
       "      <th>Tissue Source</th>\n",
       "      <th>repertoire_size</th>\n",
       "    </tr>\n",
       "    <tr>\n",
       "      <th>sample_name</th>\n",
       "      <th></th>\n",
       "      <th></th>\n",
       "      <th></th>\n",
       "      <th></th>\n",
       "      <th></th>\n",
       "      <th></th>\n",
       "      <th></th>\n",
       "      <th></th>\n",
       "    </tr>\n",
       "  </thead>\n",
       "  <tbody>\n",
       "    <tr>\n",
       "      <th>860011283_TCRB</th>\n",
       "      <td>COVID-19-HUniv12Oct</td>\n",
       "      <td>748180</td>\n",
       "      <td>COVID-19 Positive</td>\n",
       "      <td>86 Years</td>\n",
       "      <td>Female</td>\n",
       "      <td>Caucasian</td>\n",
       "      <td>Blood</td>\n",
       "      <td>129743.0</td>\n",
       "    </tr>\n",
       "    <tr>\n",
       "      <th>INCOV053-AC-3_TCRB</th>\n",
       "      <td>COVID-19-ISB</td>\n",
       "      <td>053</td>\n",
       "      <td>COVID-19 Positive</td>\n",
       "      <td>86 Years</td>\n",
       "      <td>Male</td>\n",
       "      <td>Caucasian</td>\n",
       "      <td>Blood</td>\n",
       "      <td>86436.0</td>\n",
       "    </tr>\n",
       "    <tr>\n",
       "      <th>KH20-09670_TCRB</th>\n",
       "      <td>COVID-19-DLS</td>\n",
       "      <td>550040039</td>\n",
       "      <td>COVID-19 Positive</td>\n",
       "      <td>84 Years</td>\n",
       "      <td>Male</td>\n",
       "      <td>Asian or Pacific Islander</td>\n",
       "      <td>Blood</td>\n",
       "      <td>45859.0</td>\n",
       "    </tr>\n",
       "    <tr>\n",
       "      <th>BS-EQ-23-T1-replacement_TCRB</th>\n",
       "      <td>COVID-19-NIH/NIAID</td>\n",
       "      <td>0000142</td>\n",
       "      <td>COVID-19 Positive</td>\n",
       "      <td>49 Years</td>\n",
       "      <td>Male</td>\n",
       "      <td>Caucasian</td>\n",
       "      <td>Blood,gDNA</td>\n",
       "      <td>57115.0</td>\n",
       "    </tr>\n",
       "    <tr>\n",
       "      <th>BS-HS-157_TCRB</th>\n",
       "      <td>COVID-19-NIH/NIAID</td>\n",
       "      <td>NaN</td>\n",
       "      <td>NaN</td>\n",
       "      <td>NaN</td>\n",
       "      <td>NaN</td>\n",
       "      <td>NaN</td>\n",
       "      <td>Blood,gDNA</td>\n",
       "      <td>23186.0</td>\n",
       "    </tr>\n",
       "    <tr>\n",
       "      <th>...</th>\n",
       "      <td>...</td>\n",
       "      <td>...</td>\n",
       "      <td>...</td>\n",
       "      <td>...</td>\n",
       "      <td>...</td>\n",
       "      <td>...</td>\n",
       "      <td>...</td>\n",
       "      <td>...</td>\n",
       "    </tr>\n",
       "    <tr>\n",
       "      <th>BS-GIGI_36-replacement_TCRB</th>\n",
       "      <td>COVID-19-NIH/NIAID</td>\n",
       "      <td>0000471</td>\n",
       "      <td>COVID-19 Positive</td>\n",
       "      <td>70 Years</td>\n",
       "      <td>Female</td>\n",
       "      <td>Caucasian</td>\n",
       "      <td>Blood,gDNA</td>\n",
       "      <td>52262.0</td>\n",
       "    </tr>\n",
       "    <tr>\n",
       "      <th>1328-CM-933_TCRB</th>\n",
       "      <td>COVID-19-NIH/NIAID</td>\n",
       "      <td>NaN</td>\n",
       "      <td>NaN</td>\n",
       "      <td>NaN</td>\n",
       "      <td>NaN</td>\n",
       "      <td>NaN</td>\n",
       "      <td>Buffy Coat,gDNA</td>\n",
       "      <td>106779.0</td>\n",
       "    </tr>\n",
       "    <tr>\n",
       "      <th>1566746BW_TCRB</th>\n",
       "      <td>COVID-19-BWNW</td>\n",
       "      <td>1566746</td>\n",
       "      <td>COVID-19 Positive</td>\n",
       "      <td>21 Years</td>\n",
       "      <td>Female</td>\n",
       "      <td>Native American or Alaska Native</td>\n",
       "      <td>Blood</td>\n",
       "      <td>330053.0</td>\n",
       "    </tr>\n",
       "    <tr>\n",
       "      <th>BS-HS-121_TCRB</th>\n",
       "      <td>COVID-19-NIH/NIAID</td>\n",
       "      <td>NaN</td>\n",
       "      <td>NaN</td>\n",
       "      <td>NaN</td>\n",
       "      <td>NaN</td>\n",
       "      <td>NaN</td>\n",
       "      <td>Blood,gDNA</td>\n",
       "      <td>42359.0</td>\n",
       "    </tr>\n",
       "    <tr>\n",
       "      <th>INCOV066-AC-3_TCRB</th>\n",
       "      <td>COVID-19-ISB</td>\n",
       "      <td>066</td>\n",
       "      <td>COVID-19 Positive</td>\n",
       "      <td>53 Years</td>\n",
       "      <td>Male</td>\n",
       "      <td>Caucasian</td>\n",
       "      <td>Blood</td>\n",
       "      <td>296779.0</td>\n",
       "    </tr>\n",
       "  </tbody>\n",
       "</table>\n",
       "<p>1413 rows × 8 columns</p>\n",
       "</div>"
      ],
      "text/plain": [
       "                                          Dataset subject_id  \\\n",
       "sample_name                                                    \n",
       "860011283_TCRB                COVID-19-HUniv12Oct     748180   \n",
       "INCOV053-AC-3_TCRB                   COVID-19-ISB        053   \n",
       "KH20-09670_TCRB                      COVID-19-DLS  550040039   \n",
       "BS-EQ-23-T1-replacement_TCRB   COVID-19-NIH/NIAID    0000142   \n",
       "BS-HS-157_TCRB                 COVID-19-NIH/NIAID        NaN   \n",
       "...                                           ...        ...   \n",
       "BS-GIGI_36-replacement_TCRB    COVID-19-NIH/NIAID    0000471   \n",
       "1328-CM-933_TCRB               COVID-19-NIH/NIAID        NaN   \n",
       "1566746BW_TCRB                      COVID-19-BWNW    1566746   \n",
       "BS-HS-121_TCRB                 COVID-19-NIH/NIAID        NaN   \n",
       "INCOV066-AC-3_TCRB                   COVID-19-ISB        066   \n",
       "\n",
       "                                 Virus Diseases       Age Biological Sex  \\\n",
       "sample_name                                                                \n",
       "860011283_TCRB                COVID-19 Positive  86 Years         Female   \n",
       "INCOV053-AC-3_TCRB            COVID-19 Positive  86 Years           Male   \n",
       "KH20-09670_TCRB               COVID-19 Positive  84 Years           Male   \n",
       "BS-EQ-23-T1-replacement_TCRB  COVID-19 Positive  49 Years           Male   \n",
       "BS-HS-157_TCRB                              NaN       NaN            NaN   \n",
       "...                                         ...       ...            ...   \n",
       "BS-GIGI_36-replacement_TCRB   COVID-19 Positive  70 Years         Female   \n",
       "1328-CM-933_TCRB                            NaN       NaN            NaN   \n",
       "1566746BW_TCRB                COVID-19 Positive  21 Years         Female   \n",
       "BS-HS-121_TCRB                              NaN       NaN            NaN   \n",
       "INCOV066-AC-3_TCRB            COVID-19 Positive  53 Years           Male   \n",
       "\n",
       "                                                  Racial Group  \\\n",
       "sample_name                                                      \n",
       "860011283_TCRB                                       Caucasian   \n",
       "INCOV053-AC-3_TCRB                                   Caucasian   \n",
       "KH20-09670_TCRB                      Asian or Pacific Islander   \n",
       "BS-EQ-23-T1-replacement_TCRB                         Caucasian   \n",
       "BS-HS-157_TCRB                                             NaN   \n",
       "...                                                        ...   \n",
       "BS-GIGI_36-replacement_TCRB                          Caucasian   \n",
       "1328-CM-933_TCRB                                           NaN   \n",
       "1566746BW_TCRB                Native American or Alaska Native   \n",
       "BS-HS-121_TCRB                                             NaN   \n",
       "INCOV066-AC-3_TCRB                                   Caucasian   \n",
       "\n",
       "                                Tissue Source  repertoire_size  \n",
       "sample_name                                                     \n",
       "860011283_TCRB                          Blood         129743.0  \n",
       "INCOV053-AC-3_TCRB                      Blood          86436.0  \n",
       "KH20-09670_TCRB                         Blood          45859.0  \n",
       "BS-EQ-23-T1-replacement_TCRB       Blood,gDNA          57115.0  \n",
       "BS-HS-157_TCRB                     Blood,gDNA          23186.0  \n",
       "...                                       ...              ...  \n",
       "BS-GIGI_36-replacement_TCRB        Blood,gDNA          52262.0  \n",
       "1328-CM-933_TCRB              Buffy Coat,gDNA         106779.0  \n",
       "1566746BW_TCRB                          Blood         330053.0  \n",
       "BS-HS-121_TCRB                     Blood,gDNA          42359.0  \n",
       "INCOV066-AC-3_TCRB                      Blood         296779.0  \n",
       "\n",
       "[1413 rows x 8 columns]"
      ]
     },
     "execution_count": 5,
     "metadata": {},
     "output_type": "execute_result"
    }
   ],
   "source": [
    "counts.obs"
   ]
  },
  {
   "cell_type": "code",
   "execution_count": 6,
   "metadata": {},
   "outputs": [],
   "source": [
    "gpu_resource = faiss.StandardGpuResources()"
   ]
  },
  {
   "cell_type": "markdown",
   "metadata": {},
   "source": [
    "modify X to change distance metric used"
   ]
  },
  {
   "cell_type": "code",
   "execution_count": 7,
   "metadata": {},
   "outputs": [],
   "source": [
    "X = counts.X.T.todense()\n",
    "X = np.ascontiguousarray(X).astype(np.float32)\n",
    "\n",
    "# X = X/X.sum(axis=0)  # scale the features: fraction instead of counts. Need to experiment with this, does this have an impact? (doesnt really seem to improve things)\n",
    "# X = normalize(X, norm=\"l1\", axis=0) # test: alternative way of scaling features through L2\n",
    "# X = X-X.mean(axis=0) # Center the columns to scale features?\n",
    "\n",
    "X = X-X.mean(axis=1)[:,None]  # Center the rows. Use for adjusted cosine = approx pearson correlation. \n",
    "faiss.normalize_L2(X) # L2 normalize counts so that they sum up to one so that cosine similarity is measured (even though we use a dot product index)"
   ]
  },
  {
   "cell_type": "markdown",
   "metadata": {},
   "source": [
    "Alternative method: include close neighbors:"
   ]
  },
  {
   "cell_type": "code",
   "execution_count": 8,
   "metadata": {},
   "outputs": [],
   "source": [
    "# def gaussian(d, sigma):\n",
    "    # return np.exp(-d**2 / (2 * sigma**2))\n",
    "\n",
    "# X = np.ascontiguousarray(counts.layers[\"tcrdist_closest\"].T.todense()).astype(np.float32)\n",
    "# X = np.apply_along_axis(gaussian, 1, X, sigma=6) # distance to similarity\n",
    "# X = X-X.mean(axis=1)[:,None]  # Center the rows. Use for adjusted cosine = approx pearson correlation. \n",
    "# faiss.normalize_L2(X) # L2 normalize counts so that they sum up to one so that cosine similarity is measured (even though we use a dot product index)"
   ]
  },
  {
   "cell_type": "markdown",
   "metadata": {},
   "source": [
    "## K-nearest neighbor graph construction"
   ]
  },
  {
   "cell_type": "code",
   "execution_count": 9,
   "metadata": {},
   "outputs": [],
   "source": [
    "# construct index\n",
    "idx = faiss.GpuIndexFlatIP(gpu_resource, X.shape[1]) # Inner product index\n",
    "idx.add(X)"
   ]
  },
  {
   "cell_type": "markdown",
   "metadata": {},
   "source": [
    "Find the k-NNs for each TCR:"
   ]
  },
  {
   "cell_type": "code",
   "execution_count": 10,
   "metadata": {},
   "outputs": [
    {
     "name": "stdout",
     "output_type": "stream",
     "text": [
      "CPU times: user 1min 13s, sys: 141 ms, total: 1min 13s\n",
      "Wall time: 1min 14s\n"
     ]
    }
   ],
   "source": [
    "%%time\n",
    "D,I = idx.search(X, K_NN) # search. We need to figure out which value of k works best."
   ]
  },
  {
   "cell_type": "code",
   "execution_count": 11,
   "metadata": {},
   "outputs": [],
   "source": [
    "# save result matrices (intermediate step)\n",
    "\n",
    "np.save(\"data/D\", D)\n",
    "np.save(\"data/I\", I)"
   ]
  },
  {
   "cell_type": "markdown",
   "metadata": {},
   "source": [
    "create k-NN graph:"
   ]
  },
  {
   "cell_type": "code",
   "execution_count": 12,
   "metadata": {},
   "outputs": [],
   "source": [
    "D, I = np.load(\"data/D.npy\"), np.load(\"data/I.npy\") # load result matrices if needed"
   ]
  },
  {
   "cell_type": "code",
   "execution_count": null,
   "metadata": {},
   "outputs": [
    {
     "ename": "",
     "evalue": "",
     "output_type": "error",
     "traceback": [
      "\u001b[1;31mFailed to start the Kernel. \n",
      "\u001b[1;31mUnable to start Kernel '.venv (Python 3.10.12)' due to a timeout waiting for the ports to get used. \n",
      "\u001b[1;31mView Jupyter <a href='command:jupyter.viewOutput'>log</a> for further details."
     ]
    }
   ],
   "source": [
    "# D and I matrix to edgelist\n",
    "\n",
    "edgelist = set()\n",
    "recursive_edgelist = []\n",
    "\n",
    "for s,t,sim in zip(\n",
    "    np.repeat(np.arange(I.shape[0]), K_NN).astype(int), #source\n",
    "    I[:,:K_NN].ravel(),      #target\n",
    "    D[:,:K_NN].ravel()):     #distance\n",
    "        t = int(t)\n",
    "        if s<t:\n",
    "            edgelist.add((s,t))\n",
    "        if t<s:\n",
    "            if (t,s) in edgelist:\n",
    "                recursive_edgelist.append((s,t,sim))\n",
    "\n",
    "del edgelist"
   ]
  },
  {
   "cell_type": "code",
   "execution_count": null,
   "metadata": {},
   "outputs": [
    {
     "ename": "",
     "evalue": "",
     "output_type": "error",
     "traceback": [
      "\u001b[1;31mFailed to start the Kernel. \n",
      "\u001b[1;31mUnable to start Kernel '.venv (Python 3.10.12)' due to a timeout waiting for the ports to get used. \n",
      "\u001b[1;31mView Jupyter <a href='command:jupyter.viewOutput'>log</a> for further details."
     ]
    }
   ],
   "source": [
    "source, target, similarity = zip(*recursive_edgelist)\n",
    "\n",
    "edge_df = cudf.DataFrame({\n",
    "    \"source\":source,\n",
    "    \"target\":target,\n",
    "    \"weight\":similarity\n",
    "\n",
    "})\n",
    "\n",
    "edge_df.source = edge_df.source.astype(np.int32)\n",
    "edge_df.target = edge_df.target.astype(np.int32)"
   ]
  },
  {
   "cell_type": "code",
   "execution_count": null,
   "metadata": {},
   "outputs": [
    {
     "ename": "",
     "evalue": "",
     "output_type": "error",
     "traceback": [
      "\u001b[1;31mFailed to start the Kernel. \n",
      "\u001b[1;31mUnable to start Kernel '.venv (Python 3.10.12)' due to a timeout waiting for the ports to get used. \n",
      "\u001b[1;31mView Jupyter <a href='command:jupyter.viewOutput'>log</a> for further details."
     ]
    }
   ],
   "source": [
    "G = cugraph.from_cudf_edgelist(edge_df, source=\"source\", destination=\"target\", edge_attr=\"weight\") # create weighted graph object\n",
    "# G = cugraph.from_cudf_edgelist(edge_df, source=\"source\", destination=\"target\") # create unweighted graph object"
   ]
  },
  {
   "cell_type": "code",
   "execution_count": null,
   "metadata": {},
   "outputs": [
    {
     "ename": "",
     "evalue": "",
     "output_type": "error",
     "traceback": [
      "\u001b[1;31mFailed to start the Kernel. \n",
      "\u001b[1;31mUnable to start Kernel '.venv (Python 3.10.12)' due to a timeout waiting for the ports to get used. \n",
      "\u001b[1;31mView Jupyter <a href='command:jupyter.viewOutput'>log</a> for further details."
     ]
    }
   ],
   "source": [
    "G.is_weighted()"
   ]
  },
  {
   "cell_type": "code",
   "execution_count": null,
   "metadata": {},
   "outputs": [
    {
     "ename": "",
     "evalue": "",
     "output_type": "error",
     "traceback": [
      "\u001b[1;31mFailed to start the Kernel. \n",
      "\u001b[1;31mUnable to start Kernel '.venv (Python 3.10.12)' due to a timeout waiting for the ports to get used. \n",
      "\u001b[1;31mView Jupyter <a href='command:jupyter.viewOutput'>log</a> for further details."
     ]
    }
   ],
   "source": [
    "G.number_of_nodes()"
   ]
  },
  {
   "cell_type": "code",
   "execution_count": null,
   "metadata": {},
   "outputs": [
    {
     "ename": "",
     "evalue": "",
     "output_type": "error",
     "traceback": [
      "\u001b[1;31mFailed to start the Kernel. \n",
      "\u001b[1;31mUnable to start Kernel '.venv (Python 3.10.12)' due to a timeout waiting for the ports to get used. \n",
      "\u001b[1;31mView Jupyter <a href='command:jupyter.viewOutput'>log</a> for further details."
     ]
    }
   ],
   "source": [
    "G.number_of_edges()"
   ]
  },
  {
   "cell_type": "code",
   "execution_count": null,
   "metadata": {},
   "outputs": [
    {
     "ename": "",
     "evalue": "",
     "output_type": "error",
     "traceback": [
      "\u001b[1;31mFailed to start the Kernel. \n",
      "\u001b[1;31mUnable to start Kernel '.venv (Python 3.10.12)' due to a timeout waiting for the ports to get used. \n",
      "\u001b[1;31mView Jupyter <a href='command:jupyter.viewOutput'>log</a> for further details."
     ]
    }
   ],
   "source": [
    "cugraph.connected_components(G)[\"labels\"].nunique()"
   ]
  },
  {
   "cell_type": "markdown",
   "metadata": {},
   "source": [
    "## Clustering"
   ]
  },
  {
   "cell_type": "code",
   "execution_count": null,
   "metadata": {},
   "outputs": [
    {
     "ename": "",
     "evalue": "",
     "output_type": "error",
     "traceback": [
      "\u001b[1;31mFailed to start the Kernel. \n",
      "\u001b[1;31mUnable to start Kernel '.venv (Python 3.10.12)' due to a timeout waiting for the ports to get used. \n",
      "\u001b[1;31mView Jupyter <a href='command:jupyter.viewOutput'>log</a> for further details."
     ]
    }
   ],
   "source": [
    "scl = cugraph.spectralModularityMaximizationClustering(G, num_clusters=1000, num_eigen_vects=50)\n",
    "# scl = cugraph.spectralBalancedCutClustering(G, num_clusters=500, num_eigen_vects=50, kmean_tolerance=1E-8, kmean_max_iter=1000)"
   ]
  },
  {
   "cell_type": "code",
   "execution_count": null,
   "metadata": {},
   "outputs": [
    {
     "ename": "",
     "evalue": "",
     "output_type": "error",
     "traceback": [
      "\u001b[1;31mFailed to start the Kernel. \n",
      "\u001b[1;31mUnable to start Kernel '.venv (Python 3.10.12)' due to a timeout waiting for the ports to get used. \n",
      "\u001b[1;31mView Jupyter <a href='command:jupyter.viewOutput'>log</a> for further details."
     ]
    }
   ],
   "source": [
    "scl = scl.to_pandas()"
   ]
  },
  {
   "cell_type": "code",
   "execution_count": null,
   "metadata": {},
   "outputs": [
    {
     "ename": "",
     "evalue": "",
     "output_type": "error",
     "traceback": [
      "\u001b[1;31mFailed to start the Kernel. \n",
      "\u001b[1;31mUnable to start Kernel '.venv (Python 3.10.12)' due to a timeout waiting for the ports to get used. \n",
      "\u001b[1;31mView Jupyter <a href='command:jupyter.viewOutput'>log</a> for further details."
     ]
    }
   ],
   "source": [
    "sizes = scl[\"cluster\"].value_counts().to_numpy()"
   ]
  },
  {
   "cell_type": "code",
   "execution_count": null,
   "metadata": {},
   "outputs": [
    {
     "ename": "",
     "evalue": "",
     "output_type": "error",
     "traceback": [
      "\u001b[1;31mFailed to start the Kernel. \n",
      "\u001b[1;31mUnable to start Kernel '.venv (Python 3.10.12)' due to a timeout waiting for the ports to get used. \n",
      "\u001b[1;31mView Jupyter <a href='command:jupyter.viewOutput'>log</a> for further details."
     ]
    }
   ],
   "source": [
    "fig, ax = plt.subplots(figsize=(5,3),dpi=200)\n",
    "sns.histplot(sizes)\n",
    "sns.despine()\n",
    "ax.set_ylabel(\"Number of modules\")\n",
    "ax.set_xlabel(\"Module size\")"
   ]
  },
  {
   "cell_type": "code",
   "execution_count": null,
   "metadata": {},
   "outputs": [
    {
     "ename": "",
     "evalue": "",
     "output_type": "error",
     "traceback": [
      "\u001b[1;31mFailed to start the Kernel. \n",
      "\u001b[1;31mUnable to start Kernel '.venv (Python 3.10.12)' due to a timeout waiting for the ports to get used. \n",
      "\u001b[1;31mView Jupyter <a href='command:jupyter.viewOutput'>log</a> for further details."
     ]
    }
   ],
   "source": [
    "counts.var[\"cluster\"] = scl.to_pandas().assign(index=scl[\"vertex\"].astype(str)).set_index(\"index\")[\"cluster\"]"
   ]
  },
  {
   "cell_type": "code",
   "execution_count": null,
   "metadata": {},
   "outputs": [
    {
     "ename": "",
     "evalue": "",
     "output_type": "error",
     "traceback": [
      "\u001b[1;31mFailed to start the Kernel. \n",
      "\u001b[1;31mUnable to start Kernel '.venv (Python 3.10.12)' due to a timeout waiting for the ports to get used. \n",
      "\u001b[1;31mView Jupyter <a href='command:jupyter.viewOutput'>log</a> for further details."
     ]
    }
   ],
   "source": [
    "counts.var[\"cluster\"] = counts.var[\"cluster\"].fillna(-1).astype(int)"
   ]
  },
  {
   "cell_type": "code",
   "execution_count": null,
   "metadata": {},
   "outputs": [
    {
     "ename": "",
     "evalue": "",
     "output_type": "error",
     "traceback": [
      "\u001b[1;31mFailed to start the Kernel. \n",
      "\u001b[1;31mUnable to start Kernel '.venv (Python 3.10.12)' due to a timeout waiting for the ports to get used. \n",
      "\u001b[1;31mView Jupyter <a href='command:jupyter.viewOutput'>log</a> for further details."
     ]
    }
   ],
   "source": [
    "counts.var.to_csv(\"results/spectral_clustering.csv\")\n",
    "edge_df.to_csv(\"results/edgelist.csv\")"
   ]
  }
 ],
 "metadata": {
  "kernelspec": {
   "display_name": "cugraph",
   "language": "python",
   "name": "python3"
  },
  "language_info": {
   "codemirror_mode": {
    "name": "ipython",
    "version": 3
   },
   "file_extension": ".py",
   "mimetype": "text/x-python",
   "name": "python",
   "nbconvert_exporter": "python",
   "pygments_lexer": "ipython3",
   "version": "3.10.12"
  },
  "orig_nbformat": 4
 },
 "nbformat": 4,
 "nbformat_minor": 2
}
