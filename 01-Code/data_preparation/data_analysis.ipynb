{
 "cells": [
  {
   "cell_type": "markdown",
   "metadata": {},
   "source": [
    "# TCR co-occurence clustering"
   ]
  },
  {
   "cell_type": "code",
   "execution_count": 1,
   "metadata": {},
   "outputs": [
    {
     "name": "stderr",
     "output_type": "stream",
     "text": [
      "/media/pablo/Windows_files/00-master/02 - Semester2/[R1] Research_internship_1/.venv/lib/python3.10/site-packages/cudf/utils/gpu_utils.py:89: UserWarning: A GPU with NVIDIA Volta™ (Compute Capability 7.0) or newer architecture is required.\n",
      "Detected GPU 0: NVIDIA GeForce GTX 1050\u0000\u0000\u0000\u0000\u0000\u0000\u0000\u0000\u0000\u0000\u0000\u0000\u0000\u0000\u0000\u0000\u0000\u0000\u0000\u0000\u0000\u0000\u0000\u0000\u0000\u0000\u0000\u0000\u0000\u0000\u0000\u0000\u0000\u0000\u0000\u0000\u0000\u0000\u0000\u0000\u0000                                                                                                                                                                                                \n",
      "Detected Compute Capability: 6.1\n",
      "  warnings.warn(\n"
     ]
    }
   ],
   "source": [
    "# I run the clustering on the gpu, maybe an environment with these dependencies will take some time to set up. Feel free to ask help.\n",
    "\n",
    "import cugraph\n",
    "import cudf\n",
    "import matplotlib.pyplot as plt\n",
    "import seaborn as sns\n",
    "import numpy as np\n",
    "import faiss\n",
    "import anndata as ad\n",
    "\n",
    "\n",
    "\n",
    "#my own imports\n",
    "\n",
    "import aux_graphs as graphs\n",
    "import seaborn as sns  # Import Seaborn\n",
    "import pandas as pd\n",
    "\n",
    "\n",
    "\n",
    "cugraph.__version__\n",
    "\n",
    "# Hyperparameters\n",
    "K_NN = 100"
   ]
  },
  {
   "cell_type": "markdown",
   "metadata": {},
   "source": [
    "Read in count matrix (AnnData object)"
   ]
  },
  {
   "cell_type": "code",
   "execution_count": 2,
   "metadata": {},
   "outputs": [
    {
     "data": {
      "text/plain": [
       "<1413x198944 sparse matrix of type '<class 'numpy.float64'>'\n",
       "\twith 18722800 stored elements in Compressed Sparse Row format>"
      ]
     },
     "metadata": {},
     "output_type": "display_data"
    },
    {
     "data": {
      "text/html": [
       "<div>\n",
       "<style scoped>\n",
       "    .dataframe tbody tr th:only-of-type {\n",
       "        vertical-align: middle;\n",
       "    }\n",
       "\n",
       "    .dataframe tbody tr th {\n",
       "        vertical-align: top;\n",
       "    }\n",
       "\n",
       "    .dataframe thead th {\n",
       "        text-align: right;\n",
       "    }\n",
       "</style>\n",
       "<table border=\"1\" class=\"dataframe\">\n",
       "  <thead>\n",
       "    <tr style=\"text-align: right;\">\n",
       "      <th></th>\n",
       "      <th>Dataset</th>\n",
       "      <th>subject_id</th>\n",
       "      <th>Virus Diseases</th>\n",
       "      <th>Age</th>\n",
       "      <th>Biological Sex</th>\n",
       "      <th>Racial Group</th>\n",
       "      <th>Tissue Source</th>\n",
       "      <th>repertoire_size</th>\n",
       "    </tr>\n",
       "    <tr>\n",
       "      <th>sample_name</th>\n",
       "      <th></th>\n",
       "      <th></th>\n",
       "      <th></th>\n",
       "      <th></th>\n",
       "      <th></th>\n",
       "      <th></th>\n",
       "      <th></th>\n",
       "      <th></th>\n",
       "    </tr>\n",
       "  </thead>\n",
       "  <tbody>\n",
       "    <tr>\n",
       "      <th>860011283_TCRB</th>\n",
       "      <td>COVID-19-HUniv12Oct</td>\n",
       "      <td>748180</td>\n",
       "      <td>COVID-19 Positive</td>\n",
       "      <td>86 Years</td>\n",
       "      <td>Female</td>\n",
       "      <td>Caucasian</td>\n",
       "      <td>Blood</td>\n",
       "      <td>129743.0</td>\n",
       "    </tr>\n",
       "    <tr>\n",
       "      <th>INCOV053-AC-3_TCRB</th>\n",
       "      <td>COVID-19-ISB</td>\n",
       "      <td>053</td>\n",
       "      <td>COVID-19 Positive</td>\n",
       "      <td>86 Years</td>\n",
       "      <td>Male</td>\n",
       "      <td>Caucasian</td>\n",
       "      <td>Blood</td>\n",
       "      <td>86436.0</td>\n",
       "    </tr>\n",
       "    <tr>\n",
       "      <th>KH20-09670_TCRB</th>\n",
       "      <td>COVID-19-DLS</td>\n",
       "      <td>550040039</td>\n",
       "      <td>COVID-19 Positive</td>\n",
       "      <td>84 Years</td>\n",
       "      <td>Male</td>\n",
       "      <td>Asian or Pacific Islander</td>\n",
       "      <td>Blood</td>\n",
       "      <td>45859.0</td>\n",
       "    </tr>\n",
       "    <tr>\n",
       "      <th>BS-EQ-23-T1-replacement_TCRB</th>\n",
       "      <td>COVID-19-NIH/NIAID</td>\n",
       "      <td>0000142</td>\n",
       "      <td>COVID-19 Positive</td>\n",
       "      <td>49 Years</td>\n",
       "      <td>Male</td>\n",
       "      <td>Caucasian</td>\n",
       "      <td>Blood,gDNA</td>\n",
       "      <td>57115.0</td>\n",
       "    </tr>\n",
       "    <tr>\n",
       "      <th>BS-HS-157_TCRB</th>\n",
       "      <td>COVID-19-NIH/NIAID</td>\n",
       "      <td>NaN</td>\n",
       "      <td>NaN</td>\n",
       "      <td>NaN</td>\n",
       "      <td>NaN</td>\n",
       "      <td>NaN</td>\n",
       "      <td>Blood,gDNA</td>\n",
       "      <td>23186.0</td>\n",
       "    </tr>\n",
       "    <tr>\n",
       "      <th>...</th>\n",
       "      <td>...</td>\n",
       "      <td>...</td>\n",
       "      <td>...</td>\n",
       "      <td>...</td>\n",
       "      <td>...</td>\n",
       "      <td>...</td>\n",
       "      <td>...</td>\n",
       "      <td>...</td>\n",
       "    </tr>\n",
       "    <tr>\n",
       "      <th>BS-GIGI_36-replacement_TCRB</th>\n",
       "      <td>COVID-19-NIH/NIAID</td>\n",
       "      <td>0000471</td>\n",
       "      <td>COVID-19 Positive</td>\n",
       "      <td>70 Years</td>\n",
       "      <td>Female</td>\n",
       "      <td>Caucasian</td>\n",
       "      <td>Blood,gDNA</td>\n",
       "      <td>52262.0</td>\n",
       "    </tr>\n",
       "    <tr>\n",
       "      <th>1328-CM-933_TCRB</th>\n",
       "      <td>COVID-19-NIH/NIAID</td>\n",
       "      <td>NaN</td>\n",
       "      <td>NaN</td>\n",
       "      <td>NaN</td>\n",
       "      <td>NaN</td>\n",
       "      <td>NaN</td>\n",
       "      <td>Buffy Coat,gDNA</td>\n",
       "      <td>106779.0</td>\n",
       "    </tr>\n",
       "    <tr>\n",
       "      <th>1566746BW_TCRB</th>\n",
       "      <td>COVID-19-BWNW</td>\n",
       "      <td>1566746</td>\n",
       "      <td>COVID-19 Positive</td>\n",
       "      <td>21 Years</td>\n",
       "      <td>Female</td>\n",
       "      <td>Native American or Alaska Native</td>\n",
       "      <td>Blood</td>\n",
       "      <td>330053.0</td>\n",
       "    </tr>\n",
       "    <tr>\n",
       "      <th>BS-HS-121_TCRB</th>\n",
       "      <td>COVID-19-NIH/NIAID</td>\n",
       "      <td>NaN</td>\n",
       "      <td>NaN</td>\n",
       "      <td>NaN</td>\n",
       "      <td>NaN</td>\n",
       "      <td>NaN</td>\n",
       "      <td>Blood,gDNA</td>\n",
       "      <td>42359.0</td>\n",
       "    </tr>\n",
       "    <tr>\n",
       "      <th>INCOV066-AC-3_TCRB</th>\n",
       "      <td>COVID-19-ISB</td>\n",
       "      <td>066</td>\n",
       "      <td>COVID-19 Positive</td>\n",
       "      <td>53 Years</td>\n",
       "      <td>Male</td>\n",
       "      <td>Caucasian</td>\n",
       "      <td>Blood</td>\n",
       "      <td>296779.0</td>\n",
       "    </tr>\n",
       "  </tbody>\n",
       "</table>\n",
       "<p>1413 rows × 8 columns</p>\n",
       "</div>"
      ],
      "text/plain": [
       "                                          Dataset subject_id  \\\n",
       "sample_name                                                    \n",
       "860011283_TCRB                COVID-19-HUniv12Oct     748180   \n",
       "INCOV053-AC-3_TCRB                   COVID-19-ISB        053   \n",
       "KH20-09670_TCRB                      COVID-19-DLS  550040039   \n",
       "BS-EQ-23-T1-replacement_TCRB   COVID-19-NIH/NIAID    0000142   \n",
       "BS-HS-157_TCRB                 COVID-19-NIH/NIAID        NaN   \n",
       "...                                           ...        ...   \n",
       "BS-GIGI_36-replacement_TCRB    COVID-19-NIH/NIAID    0000471   \n",
       "1328-CM-933_TCRB               COVID-19-NIH/NIAID        NaN   \n",
       "1566746BW_TCRB                      COVID-19-BWNW    1566746   \n",
       "BS-HS-121_TCRB                 COVID-19-NIH/NIAID        NaN   \n",
       "INCOV066-AC-3_TCRB                   COVID-19-ISB        066   \n",
       "\n",
       "                                 Virus Diseases       Age Biological Sex  \\\n",
       "sample_name                                                                \n",
       "860011283_TCRB                COVID-19 Positive  86 Years         Female   \n",
       "INCOV053-AC-3_TCRB            COVID-19 Positive  86 Years           Male   \n",
       "KH20-09670_TCRB               COVID-19 Positive  84 Years           Male   \n",
       "BS-EQ-23-T1-replacement_TCRB  COVID-19 Positive  49 Years           Male   \n",
       "BS-HS-157_TCRB                              NaN       NaN            NaN   \n",
       "...                                         ...       ...            ...   \n",
       "BS-GIGI_36-replacement_TCRB   COVID-19 Positive  70 Years         Female   \n",
       "1328-CM-933_TCRB                            NaN       NaN            NaN   \n",
       "1566746BW_TCRB                COVID-19 Positive  21 Years         Female   \n",
       "BS-HS-121_TCRB                              NaN       NaN            NaN   \n",
       "INCOV066-AC-3_TCRB            COVID-19 Positive  53 Years           Male   \n",
       "\n",
       "                                                  Racial Group  \\\n",
       "sample_name                                                      \n",
       "860011283_TCRB                                       Caucasian   \n",
       "INCOV053-AC-3_TCRB                                   Caucasian   \n",
       "KH20-09670_TCRB                      Asian or Pacific Islander   \n",
       "BS-EQ-23-T1-replacement_TCRB                         Caucasian   \n",
       "BS-HS-157_TCRB                                             NaN   \n",
       "...                                                        ...   \n",
       "BS-GIGI_36-replacement_TCRB                          Caucasian   \n",
       "1328-CM-933_TCRB                                           NaN   \n",
       "1566746BW_TCRB                Native American or Alaska Native   \n",
       "BS-HS-121_TCRB                                             NaN   \n",
       "INCOV066-AC-3_TCRB                                   Caucasian   \n",
       "\n",
       "                                Tissue Source  repertoire_size  \n",
       "sample_name                                                     \n",
       "860011283_TCRB                          Blood         129743.0  \n",
       "INCOV053-AC-3_TCRB                      Blood          86436.0  \n",
       "KH20-09670_TCRB                         Blood          45859.0  \n",
       "BS-EQ-23-T1-replacement_TCRB       Blood,gDNA          57115.0  \n",
       "BS-HS-157_TCRB                     Blood,gDNA          23186.0  \n",
       "...                                       ...              ...  \n",
       "BS-GIGI_36-replacement_TCRB        Blood,gDNA          52262.0  \n",
       "1328-CM-933_TCRB              Buffy Coat,gDNA         106779.0  \n",
       "1566746BW_TCRB                          Blood         330053.0  \n",
       "BS-HS-121_TCRB                     Blood,gDNA          42359.0  \n",
       "INCOV066-AC-3_TCRB                      Blood         296779.0  \n",
       "\n",
       "[1413 rows x 8 columns]"
      ]
     },
     "metadata": {},
     "output_type": "display_data"
    },
    {
     "data": {
      "text/html": [
       "<div>\n",
       "<style scoped>\n",
       "    .dataframe tbody tr th:only-of-type {\n",
       "        vertical-align: middle;\n",
       "    }\n",
       "\n",
       "    .dataframe tbody tr th {\n",
       "        vertical-align: top;\n",
       "    }\n",
       "\n",
       "    .dataframe thead th {\n",
       "        text-align: right;\n",
       "    }\n",
       "</style>\n",
       "<table border=\"1\" class=\"dataframe\">\n",
       "  <thead>\n",
       "    <tr style=\"text-align: right;\">\n",
       "      <th></th>\n",
       "      <th>v_call</th>\n",
       "      <th>junction_aa</th>\n",
       "    </tr>\n",
       "  </thead>\n",
       "  <tbody>\n",
       "    <tr>\n",
       "      <th>0</th>\n",
       "      <td>TRBV10-1*01</td>\n",
       "      <td>CASRDSLNTEAFF</td>\n",
       "    </tr>\n",
       "    <tr>\n",
       "      <th>1</th>\n",
       "      <td>TRBV10-1*01</td>\n",
       "      <td>CASRDSMNTEAFF</td>\n",
       "    </tr>\n",
       "    <tr>\n",
       "      <th>2</th>\n",
       "      <td>TRBV10-1*01</td>\n",
       "      <td>CASRENTGELFF</td>\n",
       "    </tr>\n",
       "    <tr>\n",
       "      <th>3</th>\n",
       "      <td>TRBV10-1*01</td>\n",
       "      <td>CASRGQGNTEAFF</td>\n",
       "    </tr>\n",
       "    <tr>\n",
       "      <th>4</th>\n",
       "      <td>TRBV10-1*01</td>\n",
       "      <td>CASRGTGELFF</td>\n",
       "    </tr>\n",
       "    <tr>\n",
       "      <th>...</th>\n",
       "      <td>...</td>\n",
       "      <td>...</td>\n",
       "    </tr>\n",
       "    <tr>\n",
       "      <th>198939</th>\n",
       "      <td>TRBV9*01</td>\n",
       "      <td>CASSVYSGNTIYF</td>\n",
       "    </tr>\n",
       "    <tr>\n",
       "      <th>198940</th>\n",
       "      <td>TRBV9*01</td>\n",
       "      <td>CASSVYSTDTQYF</td>\n",
       "    </tr>\n",
       "    <tr>\n",
       "      <th>198941</th>\n",
       "      <td>TRBV9*01</td>\n",
       "      <td>CASSVYTDTQYF</td>\n",
       "    </tr>\n",
       "    <tr>\n",
       "      <th>198942</th>\n",
       "      <td>TRBV9*01</td>\n",
       "      <td>CASSVYTGELFF</td>\n",
       "    </tr>\n",
       "    <tr>\n",
       "      <th>198943</th>\n",
       "      <td>TRBV9*01</td>\n",
       "      <td>CASTNTGELFF</td>\n",
       "    </tr>\n",
       "  </tbody>\n",
       "</table>\n",
       "<p>198944 rows × 2 columns</p>\n",
       "</div>"
      ],
      "text/plain": [
       "             v_call    junction_aa\n",
       "0       TRBV10-1*01  CASRDSLNTEAFF\n",
       "1       TRBV10-1*01  CASRDSMNTEAFF\n",
       "2       TRBV10-1*01   CASRENTGELFF\n",
       "3       TRBV10-1*01  CASRGQGNTEAFF\n",
       "4       TRBV10-1*01    CASRGTGELFF\n",
       "...             ...            ...\n",
       "198939     TRBV9*01  CASSVYSGNTIYF\n",
       "198940     TRBV9*01  CASSVYSTDTQYF\n",
       "198941     TRBV9*01   CASSVYTDTQYF\n",
       "198942     TRBV9*01   CASSVYTGELFF\n",
       "198943     TRBV9*01    CASTNTGELFF\n",
       "\n",
       "[198944 rows x 2 columns]"
      ]
     },
     "metadata": {},
     "output_type": "display_data"
    }
   ],
   "source": [
    "counts = ad.read_h5ad(\"data/counts_absence_presence_only.h5ad\")\n",
    "\n",
    "#adata is the annotated dataset (no idea the difference in counts and adata)\n",
    "adata = ad.AnnData(counts)\n",
    "\n",
    "\n",
    "# show data\n",
    "display(adata.X)\n",
    "display(adata.obs)\n",
    "display(adata.var)"
   ]
  },
  {
   "cell_type": "code",
   "execution_count": 3,
   "metadata": {},
   "outputs": [
    {
     "data": {
      "text/plain": [
       "matrix([[0., 0., 0.],\n",
       "        [0., 0., 0.],\n",
       "        [0., 0., 0.],\n",
       "        ...,\n",
       "        [0., 0., 0.],\n",
       "        [0., 0., 0.],\n",
       "        [0., 0., 0.]])"
      ]
     },
     "execution_count": 3,
     "metadata": {},
     "output_type": "execute_result"
    }
   ],
   "source": [
    "counts[:,[0,1,2]].X.todense()"
   ]
  },
  {
   "cell_type": "code",
   "execution_count": 4,
   "metadata": {},
   "outputs": [
    {
     "data": {
      "text/plain": [
       "Dataset              0\n",
       "subject_id         176\n",
       "Virus Diseases     309\n",
       "Age                246\n",
       "Biological Sex     247\n",
       "Racial Group       268\n",
       "Tissue Source        0\n",
       "repertoire_size      0\n",
       "dtype: int64"
      ]
     },
     "execution_count": 4,
     "metadata": {},
     "output_type": "execute_result"
    }
   ],
   "source": [
    "#NaN values for each column\n",
    "adata.obs.isna().sum()"
   ]
  },
  {
   "cell_type": "code",
   "execution_count": 5,
   "metadata": {},
   "outputs": [
    {
     "name": "stdout",
     "output_type": "stream",
     "text": [
      "Index(['860011283_TCRB', 'INCOV053-AC-3_TCRB', 'KH20-09670_TCRB'], dtype='object', name='sample_name')\n",
      "Index(['0', '1', '2', '3', '4', '5', '6', '7', '8', '9'], dtype='object')\n"
     ]
    }
   ],
   "source": [
    "#indices de las observaciones\n",
    "print(adata.obs_names[:3]) #sample names\n",
    "print(adata.var_names[:10]) #indexes? why dosent this one have a name?"
   ]
  },
  {
   "cell_type": "code",
   "execution_count": 6,
   "metadata": {},
   "outputs": [
    {
     "data": {
      "text/html": [
       "<div>\n",
       "<style scoped>\n",
       "    .dataframe tbody tr th:only-of-type {\n",
       "        vertical-align: middle;\n",
       "    }\n",
       "\n",
       "    .dataframe tbody tr th {\n",
       "        vertical-align: top;\n",
       "    }\n",
       "\n",
       "    .dataframe thead th {\n",
       "        text-align: right;\n",
       "    }\n",
       "</style>\n",
       "<table border=\"1\" class=\"dataframe\">\n",
       "  <thead>\n",
       "    <tr style=\"text-align: right;\">\n",
       "      <th></th>\n",
       "      <th>Dataset</th>\n",
       "      <th>subject_id</th>\n",
       "      <th>Virus Diseases</th>\n",
       "      <th>Age</th>\n",
       "      <th>Biological Sex</th>\n",
       "      <th>Racial Group</th>\n",
       "      <th>Tissue Source</th>\n",
       "      <th>repertoire_size</th>\n",
       "    </tr>\n",
       "    <tr>\n",
       "      <th>sample_name</th>\n",
       "      <th></th>\n",
       "      <th></th>\n",
       "      <th></th>\n",
       "      <th></th>\n",
       "      <th></th>\n",
       "      <th></th>\n",
       "      <th></th>\n",
       "      <th></th>\n",
       "    </tr>\n",
       "  </thead>\n",
       "  <tbody>\n",
       "    <tr>\n",
       "      <th>860011283_TCRB</th>\n",
       "      <td>COVID-19-HUniv12Oct</td>\n",
       "      <td>748180</td>\n",
       "      <td>COVID-19 Positive</td>\n",
       "      <td>86 Years</td>\n",
       "      <td>Female</td>\n",
       "      <td>Caucasian</td>\n",
       "      <td>Blood</td>\n",
       "      <td>129743.0</td>\n",
       "    </tr>\n",
       "    <tr>\n",
       "      <th>INCOV053-AC-3_TCRB</th>\n",
       "      <td>COVID-19-ISB</td>\n",
       "      <td>053</td>\n",
       "      <td>COVID-19 Positive</td>\n",
       "      <td>86 Years</td>\n",
       "      <td>Male</td>\n",
       "      <td>Caucasian</td>\n",
       "      <td>Blood</td>\n",
       "      <td>86436.0</td>\n",
       "    </tr>\n",
       "  </tbody>\n",
       "</table>\n",
       "</div>"
      ],
      "text/plain": [
       "                                Dataset subject_id     Virus Diseases  \\\n",
       "sample_name                                                             \n",
       "860011283_TCRB      COVID-19-HUniv12Oct     748180  COVID-19 Positive   \n",
       "INCOV053-AC-3_TCRB         COVID-19-ISB        053  COVID-19 Positive   \n",
       "\n",
       "                         Age Biological Sex Racial Group Tissue Source  \\\n",
       "sample_name                                                              \n",
       "860011283_TCRB      86 Years         Female    Caucasian         Blood   \n",
       "INCOV053-AC-3_TCRB  86 Years           Male    Caucasian         Blood   \n",
       "\n",
       "                    repertoire_size  \n",
       "sample_name                          \n",
       "860011283_TCRB             129743.0  \n",
       "INCOV053-AC-3_TCRB          86436.0  "
      ]
     },
     "metadata": {},
     "output_type": "display_data"
    },
    {
     "data": {
      "text/html": [
       "<div>\n",
       "<style scoped>\n",
       "    .dataframe tbody tr th:only-of-type {\n",
       "        vertical-align: middle;\n",
       "    }\n",
       "\n",
       "    .dataframe tbody tr th {\n",
       "        vertical-align: top;\n",
       "    }\n",
       "\n",
       "    .dataframe thead th {\n",
       "        text-align: right;\n",
       "    }\n",
       "</style>\n",
       "<table border=\"1\" class=\"dataframe\">\n",
       "  <thead>\n",
       "    <tr style=\"text-align: right;\">\n",
       "      <th></th>\n",
       "      <th>v_call</th>\n",
       "      <th>junction_aa</th>\n",
       "    </tr>\n",
       "  </thead>\n",
       "  <tbody>\n",
       "    <tr>\n",
       "      <th>0</th>\n",
       "      <td>TRBV10-1*01</td>\n",
       "      <td>CASRDSLNTEAFF</td>\n",
       "    </tr>\n",
       "    <tr>\n",
       "      <th>10</th>\n",
       "      <td>TRBV10-1*01</td>\n",
       "      <td>CASSAGPNQPQHF</td>\n",
       "    </tr>\n",
       "  </tbody>\n",
       "</table>\n",
       "</div>"
      ],
      "text/plain": [
       "         v_call    junction_aa\n",
       "0   TRBV10-1*01  CASRDSLNTEAFF\n",
       "10  TRBV10-1*01  CASSAGPNQPQHF"
      ]
     },
     "metadata": {},
     "output_type": "display_data"
    }
   ],
   "source": [
    "subset1 = adata[['860011283_TCRB', 'INCOV053-AC-3_TCRB'], ['0','10']]\n",
    "display(subset1.obs)\n",
    "display(subset1.var)"
   ]
  },
  {
   "cell_type": "code",
   "execution_count": 7,
   "metadata": {},
   "outputs": [
    {
     "data": {
      "text/html": [
       "<div>\n",
       "<style scoped>\n",
       "    .dataframe tbody tr th:only-of-type {\n",
       "        vertical-align: middle;\n",
       "    }\n",
       "\n",
       "    .dataframe tbody tr th {\n",
       "        vertical-align: top;\n",
       "    }\n",
       "\n",
       "    .dataframe thead th {\n",
       "        text-align: right;\n",
       "    }\n",
       "</style>\n",
       "<table border=\"1\" class=\"dataframe\">\n",
       "  <thead>\n",
       "    <tr style=\"text-align: right;\">\n",
       "      <th></th>\n",
       "      <th>Dataset</th>\n",
       "      <th>subject_id</th>\n",
       "      <th>Virus Diseases</th>\n",
       "      <th>Age</th>\n",
       "      <th>Biological Sex</th>\n",
       "      <th>Racial Group</th>\n",
       "      <th>Tissue Source</th>\n",
       "      <th>repertoire_size</th>\n",
       "    </tr>\n",
       "    <tr>\n",
       "      <th>sample_name</th>\n",
       "      <th></th>\n",
       "      <th></th>\n",
       "      <th></th>\n",
       "      <th></th>\n",
       "      <th></th>\n",
       "      <th></th>\n",
       "      <th></th>\n",
       "      <th></th>\n",
       "    </tr>\n",
       "  </thead>\n",
       "  <tbody>\n",
       "    <tr>\n",
       "      <th>860011283_TCRB</th>\n",
       "      <td>COVID-19-HUniv12Oct</td>\n",
       "      <td>748180</td>\n",
       "      <td>COVID-19 Positive</td>\n",
       "      <td>86 Years</td>\n",
       "      <td>Female</td>\n",
       "      <td>Caucasian</td>\n",
       "      <td>Blood</td>\n",
       "      <td>129743.0</td>\n",
       "    </tr>\n",
       "  </tbody>\n",
       "</table>\n",
       "</div>"
      ],
      "text/plain": [
       "                            Dataset subject_id     Virus Diseases       Age  \\\n",
       "sample_name                                                                   \n",
       "860011283_TCRB  COVID-19-HUniv12Oct     748180  COVID-19 Positive  86 Years   \n",
       "\n",
       "               Biological Sex Racial Group Tissue Source  repertoire_size  \n",
       "sample_name                                                                \n",
       "860011283_TCRB         Female    Caucasian         Blood         129743.0  "
      ]
     },
     "metadata": {},
     "output_type": "display_data"
    },
    {
     "data": {
      "text/html": [
       "<div>\n",
       "<style scoped>\n",
       "    .dataframe tbody tr th:only-of-type {\n",
       "        vertical-align: middle;\n",
       "    }\n",
       "\n",
       "    .dataframe tbody tr th {\n",
       "        vertical-align: top;\n",
       "    }\n",
       "\n",
       "    .dataframe thead th {\n",
       "        text-align: right;\n",
       "    }\n",
       "</style>\n",
       "<table border=\"1\" class=\"dataframe\">\n",
       "  <thead>\n",
       "    <tr style=\"text-align: right;\">\n",
       "      <th></th>\n",
       "      <th>v_call</th>\n",
       "      <th>junction_aa</th>\n",
       "    </tr>\n",
       "  </thead>\n",
       "  <tbody>\n",
       "    <tr>\n",
       "      <th>0</th>\n",
       "      <td>TRBV10-1*01</td>\n",
       "      <td>CASRDSLNTEAFF</td>\n",
       "    </tr>\n",
       "    <tr>\n",
       "      <th>10500</th>\n",
       "      <td>TRBV12-1*01</td>\n",
       "      <td>CASSFGQGANYGYTF</td>\n",
       "    </tr>\n",
       "  </tbody>\n",
       "</table>\n",
       "</div>"
      ],
      "text/plain": [
       "            v_call      junction_aa\n",
       "0      TRBV10-1*01    CASRDSLNTEAFF\n",
       "10500  TRBV12-1*01  CASSFGQGANYGYTF"
      ]
     },
     "metadata": {},
     "output_type": "display_data"
    }
   ],
   "source": [
    "# subset2= adata[adata.obs_names.isin([\"860011283_TCRB\"]), adata.var_names.isin([\"0\", \"5\"])]\n",
    "subset2 = adata[adata.obs_names.isin([\"860011283_TCRB\"]), adata.var_names.isin([\"0\", \"10500\"])]\n",
    "display(subset2.obs)\n",
    "display(subset2.var)"
   ]
  },
  {
   "cell_type": "code",
   "execution_count": 8,
   "metadata": {},
   "outputs": [
    {
     "data": {
      "text/html": [
       "<div>\n",
       "<style scoped>\n",
       "    .dataframe tbody tr th:only-of-type {\n",
       "        vertical-align: middle;\n",
       "    }\n",
       "\n",
       "    .dataframe tbody tr th {\n",
       "        vertical-align: top;\n",
       "    }\n",
       "\n",
       "    .dataframe thead th {\n",
       "        text-align: right;\n",
       "    }\n",
       "</style>\n",
       "<table border=\"1\" class=\"dataframe\">\n",
       "  <thead>\n",
       "    <tr style=\"text-align: right;\">\n",
       "      <th></th>\n",
       "      <th>Dataset</th>\n",
       "      <th>subject_id</th>\n",
       "      <th>Virus Diseases</th>\n",
       "      <th>Age</th>\n",
       "      <th>Biological Sex</th>\n",
       "      <th>Racial Group</th>\n",
       "      <th>Tissue Source</th>\n",
       "      <th>repertoire_size</th>\n",
       "    </tr>\n",
       "    <tr>\n",
       "      <th>sample_name</th>\n",
       "      <th></th>\n",
       "      <th></th>\n",
       "      <th></th>\n",
       "      <th></th>\n",
       "      <th></th>\n",
       "      <th></th>\n",
       "      <th></th>\n",
       "      <th></th>\n",
       "    </tr>\n",
       "  </thead>\n",
       "  <tbody>\n",
       "    <tr>\n",
       "      <th>860011283_TCRB</th>\n",
       "      <td>COVID-19-HUniv12Oct</td>\n",
       "      <td>748180</td>\n",
       "      <td>COVID-19 Positive</td>\n",
       "      <td>86 Years</td>\n",
       "      <td>Female</td>\n",
       "      <td>Caucasian</td>\n",
       "      <td>Blood</td>\n",
       "      <td>129743.0</td>\n",
       "    </tr>\n",
       "  </tbody>\n",
       "</table>\n",
       "</div>"
      ],
      "text/plain": [
       "                            Dataset subject_id     Virus Diseases       Age  \\\n",
       "sample_name                                                                   \n",
       "860011283_TCRB  COVID-19-HUniv12Oct     748180  COVID-19 Positive  86 Years   \n",
       "\n",
       "               Biological Sex Racial Group Tissue Source  repertoire_size  \n",
       "sample_name                                                                \n",
       "860011283_TCRB         Female    Caucasian         Blood         129743.0  "
      ]
     },
     "metadata": {},
     "output_type": "display_data"
    },
    {
     "data": {
      "text/html": [
       "<div>\n",
       "<style scoped>\n",
       "    .dataframe tbody tr th:only-of-type {\n",
       "        vertical-align: middle;\n",
       "    }\n",
       "\n",
       "    .dataframe tbody tr th {\n",
       "        vertical-align: top;\n",
       "    }\n",
       "\n",
       "    .dataframe thead th {\n",
       "        text-align: right;\n",
       "    }\n",
       "</style>\n",
       "<table border=\"1\" class=\"dataframe\">\n",
       "  <thead>\n",
       "    <tr style=\"text-align: right;\">\n",
       "      <th></th>\n",
       "      <th>v_call</th>\n",
       "      <th>junction_aa</th>\n",
       "    </tr>\n",
       "  </thead>\n",
       "  <tbody>\n",
       "    <tr>\n",
       "      <th>0</th>\n",
       "      <td>TRBV10-1*01</td>\n",
       "      <td>CASRDSLNTEAFF</td>\n",
       "    </tr>\n",
       "    <tr>\n",
       "      <th>1</th>\n",
       "      <td>TRBV10-1*01</td>\n",
       "      <td>CASRDSMNTEAFF</td>\n",
       "    </tr>\n",
       "    <tr>\n",
       "      <th>2</th>\n",
       "      <td>TRBV10-1*01</td>\n",
       "      <td>CASRENTGELFF</td>\n",
       "    </tr>\n",
       "    <tr>\n",
       "      <th>3</th>\n",
       "      <td>TRBV10-1*01</td>\n",
       "      <td>CASRGQGNTEAFF</td>\n",
       "    </tr>\n",
       "    <tr>\n",
       "      <th>4</th>\n",
       "      <td>TRBV10-1*01</td>\n",
       "      <td>CASRGTGELFF</td>\n",
       "    </tr>\n",
       "    <tr>\n",
       "      <th>...</th>\n",
       "      <td>...</td>\n",
       "      <td>...</td>\n",
       "    </tr>\n",
       "    <tr>\n",
       "      <th>198939</th>\n",
       "      <td>TRBV9*01</td>\n",
       "      <td>CASSVYSGNTIYF</td>\n",
       "    </tr>\n",
       "    <tr>\n",
       "      <th>198940</th>\n",
       "      <td>TRBV9*01</td>\n",
       "      <td>CASSVYSTDTQYF</td>\n",
       "    </tr>\n",
       "    <tr>\n",
       "      <th>198941</th>\n",
       "      <td>TRBV9*01</td>\n",
       "      <td>CASSVYTDTQYF</td>\n",
       "    </tr>\n",
       "    <tr>\n",
       "      <th>198942</th>\n",
       "      <td>TRBV9*01</td>\n",
       "      <td>CASSVYTGELFF</td>\n",
       "    </tr>\n",
       "    <tr>\n",
       "      <th>198943</th>\n",
       "      <td>TRBV9*01</td>\n",
       "      <td>CASTNTGELFF</td>\n",
       "    </tr>\n",
       "  </tbody>\n",
       "</table>\n",
       "<p>198944 rows × 2 columns</p>\n",
       "</div>"
      ],
      "text/plain": [
       "             v_call    junction_aa\n",
       "0       TRBV10-1*01  CASRDSLNTEAFF\n",
       "1       TRBV10-1*01  CASRDSMNTEAFF\n",
       "2       TRBV10-1*01   CASRENTGELFF\n",
       "3       TRBV10-1*01  CASRGQGNTEAFF\n",
       "4       TRBV10-1*01    CASRGTGELFF\n",
       "...             ...            ...\n",
       "198939     TRBV9*01  CASSVYSGNTIYF\n",
       "198940     TRBV9*01  CASSVYSTDTQYF\n",
       "198941     TRBV9*01   CASSVYTDTQYF\n",
       "198942     TRBV9*01   CASSVYTGELFF\n",
       "198943     TRBV9*01    CASTNTGELFF\n",
       "\n",
       "[198944 rows x 2 columns]"
      ]
     },
     "metadata": {},
     "output_type": "display_data"
    }
   ],
   "source": [
    "subset3 = adata[adata.obs_names.isin([\"860011283_TCRB\"])]\n",
    "display(subset3.obs)\n",
    "display(subset3.var)"
   ]
  },
  {
   "cell_type": "code",
   "execution_count": 9,
   "metadata": {},
   "outputs": [
    {
     "data": {
      "text/html": [
       "<div>\n",
       "<style scoped>\n",
       "    .dataframe tbody tr th:only-of-type {\n",
       "        vertical-align: middle;\n",
       "    }\n",
       "\n",
       "    .dataframe tbody tr th {\n",
       "        vertical-align: top;\n",
       "    }\n",
       "\n",
       "    .dataframe thead th {\n",
       "        text-align: right;\n",
       "    }\n",
       "</style>\n",
       "<table border=\"1\" class=\"dataframe\">\n",
       "  <thead>\n",
       "    <tr style=\"text-align: right;\">\n",
       "      <th></th>\n",
       "      <th>Dataset</th>\n",
       "      <th>subject_id</th>\n",
       "      <th>Virus Diseases</th>\n",
       "      <th>Age</th>\n",
       "      <th>Biological Sex</th>\n",
       "      <th>Racial Group</th>\n",
       "      <th>Tissue Source</th>\n",
       "      <th>repertoire_size</th>\n",
       "      <th>cell type</th>\n",
       "    </tr>\n",
       "    <tr>\n",
       "      <th>sample_name</th>\n",
       "      <th></th>\n",
       "      <th></th>\n",
       "      <th></th>\n",
       "      <th></th>\n",
       "      <th></th>\n",
       "      <th></th>\n",
       "      <th></th>\n",
       "      <th></th>\n",
       "      <th></th>\n",
       "    </tr>\n",
       "  </thead>\n",
       "  <tbody>\n",
       "    <tr>\n",
       "      <th>860011283_TCRB</th>\n",
       "      <td>COVID-19-HUniv12Oct</td>\n",
       "      <td>748180</td>\n",
       "      <td>COVID-19 Positive</td>\n",
       "      <td>86 Years</td>\n",
       "      <td>Female</td>\n",
       "      <td>Caucasian</td>\n",
       "      <td>Blood</td>\n",
       "      <td>129743.0</td>\n",
       "      <td>T</td>\n",
       "    </tr>\n",
       "    <tr>\n",
       "      <th>INCOV053-AC-3_TCRB</th>\n",
       "      <td>COVID-19-ISB</td>\n",
       "      <td>053</td>\n",
       "      <td>COVID-19 Positive</td>\n",
       "      <td>86 Years</td>\n",
       "      <td>Male</td>\n",
       "      <td>Caucasian</td>\n",
       "      <td>Blood</td>\n",
       "      <td>86436.0</td>\n",
       "      <td>T</td>\n",
       "    </tr>\n",
       "    <tr>\n",
       "      <th>KH20-09670_TCRB</th>\n",
       "      <td>COVID-19-DLS</td>\n",
       "      <td>550040039</td>\n",
       "      <td>COVID-19 Positive</td>\n",
       "      <td>84 Years</td>\n",
       "      <td>Male</td>\n",
       "      <td>Asian or Pacific Islander</td>\n",
       "      <td>Blood</td>\n",
       "      <td>45859.0</td>\n",
       "      <td>B</td>\n",
       "    </tr>\n",
       "    <tr>\n",
       "      <th>BS-EQ-23-T1-replacement_TCRB</th>\n",
       "      <td>COVID-19-NIH/NIAID</td>\n",
       "      <td>0000142</td>\n",
       "      <td>COVID-19 Positive</td>\n",
       "      <td>49 Years</td>\n",
       "      <td>Male</td>\n",
       "      <td>Caucasian</td>\n",
       "      <td>Blood,gDNA</td>\n",
       "      <td>57115.0</td>\n",
       "      <td>B</td>\n",
       "    </tr>\n",
       "    <tr>\n",
       "      <th>BS-HS-157_TCRB</th>\n",
       "      <td>COVID-19-NIH/NIAID</td>\n",
       "      <td>NaN</td>\n",
       "      <td>NaN</td>\n",
       "      <td>NaN</td>\n",
       "      <td>NaN</td>\n",
       "      <td>NaN</td>\n",
       "      <td>Blood,gDNA</td>\n",
       "      <td>23186.0</td>\n",
       "      <td>T</td>\n",
       "    </tr>\n",
       "    <tr>\n",
       "      <th>...</th>\n",
       "      <td>...</td>\n",
       "      <td>...</td>\n",
       "      <td>...</td>\n",
       "      <td>...</td>\n",
       "      <td>...</td>\n",
       "      <td>...</td>\n",
       "      <td>...</td>\n",
       "      <td>...</td>\n",
       "      <td>...</td>\n",
       "    </tr>\n",
       "    <tr>\n",
       "      <th>BS-GIGI_36-replacement_TCRB</th>\n",
       "      <td>COVID-19-NIH/NIAID</td>\n",
       "      <td>0000471</td>\n",
       "      <td>COVID-19 Positive</td>\n",
       "      <td>70 Years</td>\n",
       "      <td>Female</td>\n",
       "      <td>Caucasian</td>\n",
       "      <td>Blood,gDNA</td>\n",
       "      <td>52262.0</td>\n",
       "      <td>B</td>\n",
       "    </tr>\n",
       "    <tr>\n",
       "      <th>1328-CM-933_TCRB</th>\n",
       "      <td>COVID-19-NIH/NIAID</td>\n",
       "      <td>NaN</td>\n",
       "      <td>NaN</td>\n",
       "      <td>NaN</td>\n",
       "      <td>NaN</td>\n",
       "      <td>NaN</td>\n",
       "      <td>Buffy Coat,gDNA</td>\n",
       "      <td>106779.0</td>\n",
       "      <td>T</td>\n",
       "    </tr>\n",
       "    <tr>\n",
       "      <th>1566746BW_TCRB</th>\n",
       "      <td>COVID-19-BWNW</td>\n",
       "      <td>1566746</td>\n",
       "      <td>COVID-19 Positive</td>\n",
       "      <td>21 Years</td>\n",
       "      <td>Female</td>\n",
       "      <td>Native American or Alaska Native</td>\n",
       "      <td>Blood</td>\n",
       "      <td>330053.0</td>\n",
       "      <td>B</td>\n",
       "    </tr>\n",
       "    <tr>\n",
       "      <th>BS-HS-121_TCRB</th>\n",
       "      <td>COVID-19-NIH/NIAID</td>\n",
       "      <td>NaN</td>\n",
       "      <td>NaN</td>\n",
       "      <td>NaN</td>\n",
       "      <td>NaN</td>\n",
       "      <td>NaN</td>\n",
       "      <td>Blood,gDNA</td>\n",
       "      <td>42359.0</td>\n",
       "      <td>Monocyte</td>\n",
       "    </tr>\n",
       "    <tr>\n",
       "      <th>INCOV066-AC-3_TCRB</th>\n",
       "      <td>COVID-19-ISB</td>\n",
       "      <td>066</td>\n",
       "      <td>COVID-19 Positive</td>\n",
       "      <td>53 Years</td>\n",
       "      <td>Male</td>\n",
       "      <td>Caucasian</td>\n",
       "      <td>Blood</td>\n",
       "      <td>296779.0</td>\n",
       "      <td>Monocyte</td>\n",
       "    </tr>\n",
       "  </tbody>\n",
       "</table>\n",
       "<p>1413 rows × 9 columns</p>\n",
       "</div>"
      ],
      "text/plain": [
       "                                          Dataset subject_id  \\\n",
       "sample_name                                                    \n",
       "860011283_TCRB                COVID-19-HUniv12Oct     748180   \n",
       "INCOV053-AC-3_TCRB                   COVID-19-ISB        053   \n",
       "KH20-09670_TCRB                      COVID-19-DLS  550040039   \n",
       "BS-EQ-23-T1-replacement_TCRB   COVID-19-NIH/NIAID    0000142   \n",
       "BS-HS-157_TCRB                 COVID-19-NIH/NIAID        NaN   \n",
       "...                                           ...        ...   \n",
       "BS-GIGI_36-replacement_TCRB    COVID-19-NIH/NIAID    0000471   \n",
       "1328-CM-933_TCRB               COVID-19-NIH/NIAID        NaN   \n",
       "1566746BW_TCRB                      COVID-19-BWNW    1566746   \n",
       "BS-HS-121_TCRB                 COVID-19-NIH/NIAID        NaN   \n",
       "INCOV066-AC-3_TCRB                   COVID-19-ISB        066   \n",
       "\n",
       "                                 Virus Diseases       Age Biological Sex  \\\n",
       "sample_name                                                                \n",
       "860011283_TCRB                COVID-19 Positive  86 Years         Female   \n",
       "INCOV053-AC-3_TCRB            COVID-19 Positive  86 Years           Male   \n",
       "KH20-09670_TCRB               COVID-19 Positive  84 Years           Male   \n",
       "BS-EQ-23-T1-replacement_TCRB  COVID-19 Positive  49 Years           Male   \n",
       "BS-HS-157_TCRB                              NaN       NaN            NaN   \n",
       "...                                         ...       ...            ...   \n",
       "BS-GIGI_36-replacement_TCRB   COVID-19 Positive  70 Years         Female   \n",
       "1328-CM-933_TCRB                            NaN       NaN            NaN   \n",
       "1566746BW_TCRB                COVID-19 Positive  21 Years         Female   \n",
       "BS-HS-121_TCRB                              NaN       NaN            NaN   \n",
       "INCOV066-AC-3_TCRB            COVID-19 Positive  53 Years           Male   \n",
       "\n",
       "                                                  Racial Group  \\\n",
       "sample_name                                                      \n",
       "860011283_TCRB                                       Caucasian   \n",
       "INCOV053-AC-3_TCRB                                   Caucasian   \n",
       "KH20-09670_TCRB                      Asian or Pacific Islander   \n",
       "BS-EQ-23-T1-replacement_TCRB                         Caucasian   \n",
       "BS-HS-157_TCRB                                             NaN   \n",
       "...                                                        ...   \n",
       "BS-GIGI_36-replacement_TCRB                          Caucasian   \n",
       "1328-CM-933_TCRB                                           NaN   \n",
       "1566746BW_TCRB                Native American or Alaska Native   \n",
       "BS-HS-121_TCRB                                             NaN   \n",
       "INCOV066-AC-3_TCRB                                   Caucasian   \n",
       "\n",
       "                                Tissue Source  repertoire_size cell type  \n",
       "sample_name                                                               \n",
       "860011283_TCRB                          Blood         129743.0         T  \n",
       "INCOV053-AC-3_TCRB                      Blood          86436.0         T  \n",
       "KH20-09670_TCRB                         Blood          45859.0         B  \n",
       "BS-EQ-23-T1-replacement_TCRB       Blood,gDNA          57115.0         B  \n",
       "BS-HS-157_TCRB                     Blood,gDNA          23186.0         T  \n",
       "...                                       ...              ...       ...  \n",
       "BS-GIGI_36-replacement_TCRB        Blood,gDNA          52262.0         B  \n",
       "1328-CM-933_TCRB              Buffy Coat,gDNA         106779.0         T  \n",
       "1566746BW_TCRB                          Blood         330053.0         B  \n",
       "BS-HS-121_TCRB                     Blood,gDNA          42359.0  Monocyte  \n",
       "INCOV066-AC-3_TCRB                      Blood         296779.0  Monocyte  \n",
       "\n",
       "[1413 rows x 9 columns]"
      ]
     },
     "metadata": {},
     "output_type": "display_data"
    }
   ],
   "source": [
    "metadata = adata.copy()\n",
    "ct = np.random.choice([\"B\", \"T\", \"Monocyte\"], size=(adata.n_obs,))\n",
    "\n",
    "metadata.obs[\"cell type\"] = pd.Categorical(ct)\n",
    "display(metadata.obs)"
   ]
  },
  {
   "cell_type": "markdown",
   "metadata": {},
   "source": [
    "**FIELD ANALYSIS**"
   ]
  },
  {
   "cell_type": "code",
   "execution_count": 10,
   "metadata": {},
   "outputs": [
    {
     "data": {
      "image/png": "[encoded data removed]",
      "text/plain": [
       "<Figure size 640x480 with 1 Axes>"
      ]
     },
     "metadata": {},
     "output_type": "display_data"
    }
   ],
   "source": [
    "# print(counts.obs[\"Age\"].value_counts())\n",
    "racial_group_counts = counts.obs[\"Racial Group\"].value_counts()\n",
    "\n",
    "# Create a bar chart\n",
    "plt.bar(racial_group_counts.index, racial_group_counts.values)\n",
    "\n",
    "# Set axis labels and title\n",
    "plt.xlabel(\"Racial Group\")\n",
    "plt.ylabel(\"Count\")\n",
    "plt.title(\"Racial Group Distribution\")\n",
    "\n",
    "# Rotate x-axis labels for better readability with long labels\n",
    "plt.xticks(rotation=45)\n",
    "\n",
    "# Display the plot\n",
    "plt.show()"
   ]
  },
  {
   "cell_type": "code",
   "execution_count": 11,
   "metadata": {},
   "outputs": [
    {
     "name": "stdout",
     "output_type": "stream",
     "text": [
      "Unique Age values: 73\n"
     ]
    },
    {
     "data": {
      "text/plain": [
       "89 Years    74\n",
       "61 Years    48\n",
       "55 Years    29\n",
       "56 Years    27\n",
       "60 Years    27\n",
       "            ..\n",
       "21 Years     2\n",
       "25 Years     2\n",
       "08 Years     2\n",
       "20 Years     1\n",
       "19 Years     1\n",
       "Name: Age, Length: 73, dtype: int64"
      ]
     },
     "execution_count": 11,
     "metadata": {},
     "output_type": "execute_result"
    }
   ],
   "source": [
    "#unique age \n",
    "print('Unique Age values: {}'.format(adata.obs['Age'].nunique()))\n",
    "adata.obs['Age'].value_counts()"
   ]
  },
  {
   "cell_type": "code",
   "execution_count": 12,
   "metadata": {},
   "outputs": [
    {
     "name": "stdout",
     "output_type": "stream",
     "text": [
      "Unique Sex values: 2\n"
     ]
    },
    {
     "data": {
      "text/plain": [
       "Male      630\n",
       "Female    536\n",
       "Name: Biological Sex, dtype: int64"
      ]
     },
     "execution_count": 12,
     "metadata": {},
     "output_type": "execute_result"
    }
   ],
   "source": [
    "print('Unique Sex values: {}'.format(adata.obs['Biological Sex'].nunique()))\n",
    "adata.obs['Biological Sex'].value_counts()"
   ]
  },
  {
   "cell_type": "code",
   "execution_count": null,
   "metadata": {},
   "outputs": [],
   "source": [
    "gpu_resource = faiss.StandardGpuResources()"
   ]
  },
  {
   "cell_type": "markdown",
   "metadata": {},
   "source": [
    "modify X to change distance metric used"
   ]
  },
  {
   "cell_type": "code",
   "execution_count": 3,
   "metadata": {},
   "outputs": [
    {
     "ename": "KeyboardInterrupt",
     "evalue": "",
     "output_type": "error",
     "traceback": [
      "\u001b[0;31m---------------------------------------------------------------------------\u001b[0m",
      "\u001b[0;31mKeyboardInterrupt\u001b[0m                         Traceback (most recent call last)",
      "\u001b[1;32m/media/pablo/Windows_files/master/02 - Semester2/[R1] Research_internship_1/01-Code/data_analysis.ipynb Cell 18\u001b[0m line \u001b[0;36m2\n\u001b[1;32m      <a href='vscode-notebook-cell:/media/pablo/Windows_files/master/02%20-%20Semester2/%5BR1%5D%20Research_internship_1/01-Code/data_analysis.ipynb#X23sZmlsZQ%3D%3D?line=0'>1</a>\u001b[0m X \u001b[39m=\u001b[39m counts\u001b[39m.\u001b[39mX\u001b[39m.\u001b[39mT\u001b[39m.\u001b[39mtodense()\n\u001b[0;32m----> <a href='vscode-notebook-cell:/media/pablo/Windows_files/master/02%20-%20Semester2/%5BR1%5D%20Research_internship_1/01-Code/data_analysis.ipynb#X23sZmlsZQ%3D%3D?line=1'>2</a>\u001b[0m X \u001b[39m=\u001b[39m np\u001b[39m.\u001b[39;49mascontiguousarray(X)\u001b[39m.\u001b[39mastype(np\u001b[39m.\u001b[39mfloat32)\n\u001b[1;32m      <a href='vscode-notebook-cell:/media/pablo/Windows_files/master/02%20-%20Semester2/%5BR1%5D%20Research_internship_1/01-Code/data_analysis.ipynb#X23sZmlsZQ%3D%3D?line=3'>4</a>\u001b[0m \u001b[39m# X = X/X.sum(axis=0)  # scale the features: fraction instead of counts. Need to experiment with this, does this have an impact? (doesnt really seem to improve things)\u001b[39;00m\n\u001b[1;32m      <a href='vscode-notebook-cell:/media/pablo/Windows_files/master/02%20-%20Semester2/%5BR1%5D%20Research_internship_1/01-Code/data_analysis.ipynb#X23sZmlsZQ%3D%3D?line=4'>5</a>\u001b[0m \u001b[39m# X = normalize(X, norm=\"l1\", axis=0) # test: alternative way of scaling features through L2\u001b[39;00m\n\u001b[1;32m      <a href='vscode-notebook-cell:/media/pablo/Windows_files/master/02%20-%20Semester2/%5BR1%5D%20Research_internship_1/01-Code/data_analysis.ipynb#X23sZmlsZQ%3D%3D?line=5'>6</a>\u001b[0m \u001b[39m# X = X-X.mean(axis=0) # Center the columns to scale features?\u001b[39;00m\n\u001b[1;32m      <a href='vscode-notebook-cell:/media/pablo/Windows_files/master/02%20-%20Semester2/%5BR1%5D%20Research_internship_1/01-Code/data_analysis.ipynb#X23sZmlsZQ%3D%3D?line=7'>8</a>\u001b[0m X \u001b[39m=\u001b[39m X\u001b[39m-\u001b[39mX\u001b[39m.\u001b[39mmean(axis\u001b[39m=\u001b[39m\u001b[39m1\u001b[39m)[:,\u001b[39mNone\u001b[39;00m]  \u001b[39m# Center the rows. Use for adjusted cosine = approx pearson correlation. \u001b[39;00m\n",
      "\u001b[0;31mKeyboardInterrupt\u001b[0m: "
     ]
    }
   ],
   "source": [
    "X = counts.X.T.todense()\n",
    "X = np.ascontiguousarray(X).astype(np.float32)\n",
    "\n",
    "# X = X/X.sum(axis=0)  # scale the features: fraction instead of counts. Need to experiment with this, does this have an impact? (doesnt really seem to improve things)\n",
    "# X = normalize(X, norm=\"l1\", axis=0) # test: alternative way of scaling features through L2\n",
    "# X = X-X.mean(axis=0) # Center the columns to scale features?\n",
    "\n",
    "X = X-X.mean(axis=1)[:,None]  # Center the rows. Use for adjusted cosine = approx pearson correlation. \n",
    "faiss.normalize_L2(X) # L2 normalize counts so that they sum up to one so that cosine similarity is measured (even though we use a dot product index)"
   ]
  },
  {
   "cell_type": "markdown",
   "metadata": {},
   "source": [
    "Alternative method: include close neighbors:"
   ]
  },
  {
   "cell_type": "code",
   "execution_count": 15,
   "metadata": {},
   "outputs": [],
   "source": [
    "# def gaussian(d, sigma):\n",
    "    # return np.exp(-d**2 / (2 * sigma**2))\n",
    "\n",
    "# X = np.ascontiguousarray(counts.layers[\"tcrdist_closest\"].T.todense()).astype(np.float32)\n",
    "# X = np.apply_along_axis(gaussian, 1, X, sigma=6) # distance to similarity\n",
    "# X = X-X.mean(axis=1)[:,None]  # Center the rows. Use for adjusted cosine = approx pearson correlation. \n",
    "# faiss.normalize_L2(X) # L2 normalize counts so that they sum up to one so that cosine similarity is measured (even though we use a dot product index)"
   ]
  },
  {
   "cell_type": "code",
   "execution_count": 16,
   "metadata": {},
   "outputs": [],
   "source": [
    "import faiss"
   ]
  },
  {
   "cell_type": "markdown",
   "metadata": {},
   "source": [
    "## K-nearest neighbor graph construction"
   ]
  },
  {
   "cell_type": "code",
   "execution_count": 17,
   "metadata": {},
   "outputs": [
    {
     "ename": "RuntimeError",
     "evalue": "Error in faiss::gpu::GpuIndex::GpuIndex(std::shared_ptr<faiss::gpu::GpuResources>, int, faiss::MetricType, float, faiss::gpu::GpuIndexConfig) at /project/faiss/faiss/gpu/GpuIndex.cu:53: Error: 'config_.device < getNumDevices()' failed: Invalid GPU device 0",
     "output_type": "error",
     "traceback": [
      "\u001b[0;31m---------------------------------------------------------------------------\u001b[0m",
      "\u001b[0;31mRuntimeError\u001b[0m                              Traceback (most recent call last)",
      "\u001b[0;32m/tmp/ipykernel_16491/704259310.py\u001b[0m in \u001b[0;36m?\u001b[0;34m()\u001b[0m\n\u001b[1;32m      1\u001b[0m \u001b[0;31m# construct index\u001b[0m\u001b[0;34m\u001b[0m\u001b[0;34m\u001b[0m\u001b[0m\n\u001b[0;32m----> 2\u001b[0;31m \u001b[0midx\u001b[0m \u001b[0;34m=\u001b[0m \u001b[0mfaiss\u001b[0m\u001b[0;34m.\u001b[0m\u001b[0mGpuIndexFlatIP\u001b[0m\u001b[0;34m(\u001b[0m\u001b[0mgpu_resource\u001b[0m\u001b[0;34m,\u001b[0m \u001b[0mX\u001b[0m\u001b[0;34m.\u001b[0m\u001b[0mshape\u001b[0m\u001b[0;34m[\u001b[0m\u001b[0;36m1\u001b[0m\u001b[0;34m]\u001b[0m\u001b[0;34m)\u001b[0m \u001b[0;31m# Inner product index\u001b[0m\u001b[0;34m\u001b[0m\u001b[0;34m\u001b[0m\u001b[0m\n\u001b[0m\u001b[1;32m      3\u001b[0m \u001b[0midx\u001b[0m\u001b[0;34m.\u001b[0m\u001b[0madd\u001b[0m\u001b[0;34m(\u001b[0m\u001b[0mX\u001b[0m\u001b[0;34m)\u001b[0m\u001b[0;34m\u001b[0m\u001b[0;34m\u001b[0m\u001b[0m\n",
      "\u001b[0;32m/media/pablo/Windows_files/master/02 - Semester2/[R1] Research_internship_1/.venv/lib/python3.10/site-packages/faiss/swigfaiss.py\u001b[0m in \u001b[0;36m?\u001b[0;34m(self, *args)\u001b[0m\n\u001b[1;32m   9160\u001b[0m     \u001b[0;32mdef\u001b[0m \u001b[0m__init__\u001b[0m\u001b[0;34m(\u001b[0m\u001b[0mself\u001b[0m\u001b[0;34m,\u001b[0m \u001b[0;34m*\u001b[0m\u001b[0margs\u001b[0m\u001b[0;34m)\u001b[0m\u001b[0;34m:\u001b[0m\u001b[0;34m\u001b[0m\u001b[0;34m\u001b[0m\u001b[0m\n\u001b[0;32m-> 9161\u001b[0;31m         \u001b[0m_swigfaiss\u001b[0m\u001b[0;34m.\u001b[0m\u001b[0mGpuIndexFlatIP_swiginit\u001b[0m\u001b[0;34m(\u001b[0m\u001b[0mself\u001b[0m\u001b[0;34m,\u001b[0m \u001b[0m_swigfaiss\u001b[0m\u001b[0;34m.\u001b[0m\u001b[0mnew_GpuIndexFlatIP\u001b[0m\u001b[0;34m(\u001b[0m\u001b[0;34m*\u001b[0m\u001b[0margs\u001b[0m\u001b[0;34m)\u001b[0m\u001b[0;34m)\u001b[0m\u001b[0;34m\u001b[0m\u001b[0;34m\u001b[0m\u001b[0m\n\u001b[0m",
      "\u001b[0;31mRuntimeError\u001b[0m: Error in faiss::gpu::GpuIndex::GpuIndex(std::shared_ptr<faiss::gpu::GpuResources>, int, faiss::MetricType, float, faiss::gpu::GpuIndexConfig) at /project/faiss/faiss/gpu/GpuIndex.cu:53: Error: 'config_.device < getNumDevices()' failed: Invalid GPU device 0"
     ]
    }
   ],
   "source": [
    "# construct index\n",
    "idx = faiss.CpuIndexFlatI(gpu_resource, X.shape[1]) # Inner product index\n",
    "idx.add(X)"
   ]
  },
  {
   "cell_type": "markdown",
   "metadata": {},
   "source": [
    "Find the k-NNs for each TCR:"
   ]
  },
  {
   "cell_type": "code",
   "execution_count": null,
   "metadata": {},
   "outputs": [],
   "source": [
    "%%time\n",
    "D,I = idx.search(X, K_NN) # search. We need to figure out which value of k works best."
   ]
  },
  {
   "cell_type": "code",
   "execution_count": null,
   "metadata": {},
   "outputs": [],
   "source": [
    "# save result matrices (intermediate step)\n",
    "\n",
    "np.save(\"data/D\", D)\n",
    "np.save(\"data/I\", I)"
   ]
  },
  {
   "cell_type": "code",
   "execution_count": null,
   "metadata": {},
   "outputs": [],
   "source": [
    "import numpy as np\n",
    "\n",
    "# Load the .npy file\n",
    "D, I = np.load(\"data/D.npy\"), np.load(\"data/I.npy\") # load result matrices if needed"
   ]
  },
  {
   "cell_type": "code",
   "execution_count": null,
   "metadata": {},
   "outputs": [],
   "source": [
    "import pandas as pd\n",
    "d_df = pd.DataFrame(D)\n",
    "i_df = pd.DataFrame(I)\n",
    "\n",
    "display(d_df)\n",
    "display(i_df)"
   ]
  },
  {
   "cell_type": "markdown",
   "metadata": {},
   "source": [
    "create k-NN graph:"
   ]
  },
  {
   "cell_type": "code",
   "execution_count": null,
   "metadata": {},
   "outputs": [],
   "source": [
    "D, I = np.load(\"data/D.npy\"), np.load(\"data/I.npy\") # load result matrices if needed"
   ]
  },
  {
   "cell_type": "code",
   "execution_count": null,
   "metadata": {},
   "outputs": [],
   "source": [
    "# D and I matrix to edgelist\n",
    "\n",
    "edgelist = set()\n",
    "recursive_edgelist = []\n",
    "\n",
    "for s,t,sim in zip(\n",
    "    np.repeat(np.arange(I.shape[0]), K_NN).astype(int), #source\n",
    "    I[:,:K_NN].ravel(),      #target\n",
    "    D[:,:K_NN].ravel()):     #distance\n",
    "        t = int(t)\n",
    "        if s<t:\n",
    "            edgelist.add((s,t))\n",
    "        if t<s:\n",
    "            if (t,s) in edgelist:\n",
    "                recursive_edgelist.append((s,t,sim))\n",
    "\n",
    "del edgelist"
   ]
  },
  {
   "cell_type": "code",
   "execution_count": null,
   "metadata": {},
   "outputs": [],
   "source": [
    "source, target, similarity = zip(*recursive_edgelist)\n",
    "\n",
    "edge_df = cudf.DataFrame({\n",
    "    \"source\":source,\n",
    "    \"target\":target,\n",
    "    \"weight\":similarity\n",
    "\n",
    "})\n",
    "\n",
    "edge_df.source = edge_df.source.astype(np.int32)\n",
    "edge_df.target = edge_df.target.astype(np.int32)"
   ]
  },
  {
   "cell_type": "code",
   "execution_count": null,
   "metadata": {},
   "outputs": [],
   "source": [
    "G = cugraph.from_cudf_edgelist(edge_df, source=\"source\", destination=\"target\", edge_attr=\"weight\") # create weighted graph object\n",
    "# G = cugraph.from_cudf_edgelist(edge_df, source=\"source\", destination=\"target\") # create unweighted graph object"
   ]
  },
  {
   "cell_type": "code",
   "execution_count": null,
   "metadata": {},
   "outputs": [],
   "source": [
    "G.is_weighted()"
   ]
  },
  {
   "cell_type": "code",
   "execution_count": null,
   "metadata": {},
   "outputs": [],
   "source": [
    "G.number_of_nodes()"
   ]
  },
  {
   "cell_type": "code",
   "execution_count": null,
   "metadata": {},
   "outputs": [],
   "source": [
    "G.number_of_edges()"
   ]
  },
  {
   "cell_type": "code",
   "execution_count": null,
   "metadata": {},
   "outputs": [],
   "source": [
    "cugraph.connected_components(G)[\"labels\"].nunique()"
   ]
  },
  {
   "cell_type": "markdown",
   "metadata": {},
   "source": [
    "## Clustering"
   ]
  },
  {
   "cell_type": "code",
   "execution_count": null,
   "metadata": {},
   "outputs": [],
   "source": [
    "scl = cugraph.spectralModularityMaximizationClustering(G, num_clusters=1000, num_eigen_vects=50)\n",
    "# scl = cugraph.spectralBalancedCutClustering(G, num_clusters=500, num_eigen_vects=50, kmean_tolerance=1E-8, kmean_max_iter=1000)"
   ]
  },
  {
   "cell_type": "code",
   "execution_count": null,
   "metadata": {},
   "outputs": [],
   "source": [
    "scl = scl.to_pandas()"
   ]
  },
  {
   "cell_type": "code",
   "execution_count": null,
   "metadata": {},
   "outputs": [],
   "source": [
    "sizes = scl[\"cluster\"].value_counts().to_numpy()"
   ]
  },
  {
   "cell_type": "code",
   "execution_count": null,
   "metadata": {},
   "outputs": [],
   "source": [
    "fig, ax = plt.subplots(figsize=(5,3),dpi=200)\n",
    "sns.histplot(sizes)\n",
    "sns.despine()\n",
    "ax.set_ylabel(\"Number of modules\")\n",
    "ax.set_xlabel(\"Module size\")"
   ]
  },
  {
   "cell_type": "code",
   "execution_count": null,
   "metadata": {},
   "outputs": [],
   "source": [
    "counts.var[\"cluster\"] = scl.to_pandas().assign(index=scl[\"vertex\"].astype(str)).set_index(\"index\")[\"cluster\"]"
   ]
  },
  {
   "cell_type": "code",
   "execution_count": null,
   "metadata": {},
   "outputs": [],
   "source": [
    "counts.var[\"cluster\"] = counts.var[\"cluster\"].fillna(-1).astype(int)"
   ]
  },
  {
   "cell_type": "code",
   "execution_count": null,
   "metadata": {},
   "outputs": [],
   "source": [
    "counts.var.to_csv(\"results/spectral_clustering.csv\")\n",
    "edge_df.to_csv(\"results/edgelist.csv\")"
   ]
  }
 ],
 "metadata": {
  "kernelspec": {
   "display_name": "cugraph",
   "language": "python",
   "name": "python3"
  },
  "language_info": {
   "codemirror_mode": {
    "name": "ipython",
    "version": 3
   },
   "file_extension": ".py",
   "mimetype": "text/x-python",
   "name": "python",
   "nbconvert_exporter": "python",
   "pygments_lexer": "ipython3",
   "version": "3.10.12"
  },
  "orig_nbformat": 4
 },
 "nbformat": 4,
 "nbformat_minor": 2
}
